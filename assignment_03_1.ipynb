{
 "cells": [
  {
   "cell_type": "markdown",
   "metadata": {},
   "source": [
    "# Gradient of Image"
   ]
  },
  {
   "cell_type": "markdown",
   "metadata": {},
   "source": [
    "## import library"
   ]
  },
  {
   "cell_type": "code",
   "execution_count": 1,
   "metadata": {},
   "outputs": [],
   "source": [
    "import numpy as np\n",
    "import matplotlib.image as img\n",
    "import matplotlib.pyplot as plt\n",
    "from matplotlib import cm\n",
    "import matplotlib.colors as colors"
   ]
  },
  {
   "cell_type": "markdown",
   "metadata": {},
   "source": [
    "## load input image ('test.jpeg')"
   ]
  },
  {
   "cell_type": "code",
   "execution_count": 2,
   "metadata": {},
   "outputs": [],
   "source": [
    "I0 = img.imread('test.jpeg')"
   ]
  },
  {
   "cell_type": "markdown",
   "metadata": {},
   "source": [
    "## check the size of the input image"
   ]
  },
  {
   "cell_type": "code",
   "execution_count": 3,
   "metadata": {},
   "outputs": [
    {
     "name": "stdout",
     "output_type": "stream",
     "text": [
      "number of rows of I0 =  510\n",
      "number of columns of I0 =  512\n",
      "number of channels of I0 =  3\n"
     ]
    }
   ],
   "source": [
    "# ++++++++++++++++++++++++++++++++++++++++++++++++++\n",
    "# complete the blanks\n",
    "#\n",
    "num_row     = I0.shape[0]\n",
    "num_column  = I0.shape[1]\n",
    "num_channel = I0.shape[2]\n",
    "#\n",
    "# ++++++++++++++++++++++++++++++++++++++++++++++++++\n",
    "\n",
    "print('number of rows of I0 = ', num_row)\n",
    "print('number of columns of I0 = ', num_column)\n",
    "print('number of channels of I0 = ', num_channel)"
   ]
  },
  {
   "cell_type": "markdown",
   "metadata": {},
   "source": [
    "## convert the color image into a grey image\n",
    "- take the average of the input image with 3 channels with respect to the channels into an image with 1 channel"
   ]
  },
  {
   "cell_type": "code",
   "execution_count": 4,
   "metadata": {},
   "outputs": [
    {
     "name": "stdout",
     "output_type": "stream",
     "text": [
      "number of rows of I =  510\n",
      "number of columns of I =  512\n"
     ]
    }
   ],
   "source": [
    "# ++++++++++++++++++++++++++++++++++++++++++++++++++\n",
    "# complete the blanks\n",
    "#\n",
    "\n",
    "I = np.mean(I0, axis=2\n",
    "    \n",
    "num_row     = I.shape[0]\n",
    "num_column  = I.shape[1]\n",
    "#\n",
    "# ++++++++++++++++++++++++++++++++++++++++++++++++++\n",
    "\n",
    "print('number of rows of I = ', num_row)\n",
    "print('number of columns of I = ', num_column)"
   ]
  },
  {
   "cell_type": "markdown",
   "metadata": {},
   "source": [
    "## normalize the converted image\n",
    "- normalize the converted grey scale image so that its maximum value is 1 and its minimum value is 0"
   ]
  },
  {
   "cell_type": "code",
   "execution_count": 5,
   "metadata": {},
   "outputs": [
    {
     "name": "stdout",
     "output_type": "stream",
     "text": [
      "maximum value of I =  1.0\n",
      "minimum value of I =  0.0\n"
     ]
    }
   ],
   "source": [
    "# ++++++++++++++++++++++++++++++++++++++++++++++++++\n",
    "# complete the blanks\n",
    "#\n",
    "\n",
    "I = ((I-I.min())/(I.max()-I.min()))\n",
    "\n",
    "#\n",
    "# ++++++++++++++++++++++++++++++++++++++++++++++++++\n",
    "\n",
    "print('maximum value of I = ', np.max(I))\n",
    "print('minimum value of I = ', np.min(I))"
   ]
  },
  {
   "cell_type": "markdown",
   "metadata": {},
   "source": [
    "## define a function to compute the derivative of input matrix in x(row)-direction"
   ]
  },
  {
   "cell_type": "markdown",
   "metadata": {},
   "source": [
    "- forward difference : $ I[x+1, y] - I[x, y] $ "
   ]
  },
  {
   "cell_type": "code",
   "execution_count": 54,
   "metadata": {},
   "outputs": [],
   "source": [
    "def compute_derivative_x_forward(I):\n",
    "    \n",
    "    D = np.zeros(I.shape)\n",
    "    # ++++++++++++++++++++++++++++++++++++++++++++++++++\n",
    "    # complete the blanks\n",
    "    #\n",
    "    for i in range(1,I.shape[0]):\n",
    "            for j in range(0,I.shape[1]):\n",
    "                D[i-1][j]=I[i][j]\n",
    "    for j in range(0,I.shape[1]):\n",
    "        D[I.shape[0]-1][j]=I[I.shape[0]-1][j]\n",
    "    \n",
    "    D=D-I\n",
    "    #\n",
    "    # ++++++++++++++++++++++++++++++++++++++++++++++++++\n",
    "    \n",
    "    return D"
   ]
  },
  {
   "cell_type": "markdown",
   "metadata": {},
   "source": [
    "- backward difference : $ I[x, y] - I[x-1, y] $ "
   ]
  },
  {
   "cell_type": "code",
   "execution_count": 56,
   "metadata": {},
   "outputs": [],
   "source": [
    "def compute_derivative_x_backward(I):\n",
    "    \n",
    "    D = np.zeros(I.shape)\n",
    "    # ++++++++++++++++++++++++++++++++++++++++++++++++++\n",
    "    # complete the blanks\n",
    "    #\n",
    "    for j in range(0,I.shape[1]):\n",
    "        D[0][j]=I[0][j]\n",
    "    for i in range(1,I.shape[0]):\n",
    "            for j in range(0,I.shape[1]):\n",
    "                D[i][j]=I[i-1][j]\n",
    "\n",
    "    D=I-D   \n",
    "    #\n",
    "    # ++++++++++++++++++++++++++++++++++++++++++++++++++\n",
    "    \n",
    "    return D"
   ]
  },
  {
   "cell_type": "markdown",
   "metadata": {},
   "source": [
    "- central difference : $ \\frac{1}{2} \\left( I[x+1, y] - I[x-1, y] \\right)$ "
   ]
  },
  {
   "cell_type": "code",
   "execution_count": 59,
   "metadata": {},
   "outputs": [],
   "source": [
    "def compute_derivative_x_central(I):\n",
    "    \n",
    "    D = np.zeros(I.shape)\n",
    "    \n",
    "    # ++++++++++++++++++++++++++++++++++++++++++++++++++\n",
    "    # complete the blanks\n",
    "    #\n",
    "    D1=np.zeros(I.shape)\n",
    "    D2=np.zeros(I.shape)\n",
    "    for j in range(0,I.shape[1]):\n",
    "        D1[0][j]=I[0][j]\n",
    "    for i in range(1,I.shape[0]):\n",
    "            for j in range(0,I.shape[1]):\n",
    "                D1[i][j]=I[i-1][j]   \n",
    "    for i in range(1,I.shape[0]):\n",
    "            for j in range(0,I.shape[1]):\n",
    "                D2[i-1][j]=I[i][j]\n",
    "    for j in range(0,I.shape[1]):\n",
    "        D2[I.shape[0]-1][j]=I[I.shape[0]-1][j]\n",
    "    D=D2-D1\n",
    "    D=D/2\n",
    "    #\n",
    "    # ++++++++++++++++++++++++++++++++++++++++++++++++++\n",
    "    \n",
    "    return D"
   ]
  },
  {
   "cell_type": "markdown",
   "metadata": {},
   "source": [
    "## define a function to compute the derivative of input matrix in y(column)-direction"
   ]
  },
  {
   "cell_type": "markdown",
   "metadata": {},
   "source": [
    "- forward difference : $ I[x, y+1] - I[x, y] $ "
   ]
  },
  {
   "cell_type": "code",
   "execution_count": 61,
   "metadata": {},
   "outputs": [],
   "source": [
    "def compute_derivative_y_forward(I):\n",
    "    \n",
    "    D = np.zeros(I.shape)\n",
    "    \n",
    "    # ++++++++++++++++++++++++++++++++++++++++++++++++++\n",
    "    # complete the blanks\n",
    "    #\n",
    "    for i in range(0,I.shape[0]):\n",
    "        for j in range(1,I.shape[1]):\n",
    "            D[i][j-1]=I[i][j]\n",
    "    for j in range(0,I.shape[0]):\n",
    "        D[j][I.shape[1]-1]=I[j][I.shape[1]-1]\n",
    "\n",
    "    D=D-I\n",
    "    #\n",
    "    # ++++++++++++++++++++++++++++++++++++++++++++++++++\n",
    "    \n",
    "    return D"
   ]
  },
  {
   "cell_type": "markdown",
   "metadata": {},
   "source": [
    "- backward difference : $ I[x, y] - I[x, y-1] $ "
   ]
  },
  {
   "cell_type": "code",
   "execution_count": 63,
   "metadata": {},
   "outputs": [],
   "source": [
    "def compute_derivative_y_backward(I):\n",
    "    \n",
    "    D = np.zeros(I.shape)\n",
    "    \n",
    "    # ++++++++++++++++++++++++++++++++++++++++++++++++++\n",
    "    # complete the blanks\n",
    "    #\n",
    "    for j in range(0,I.shape[0]):\n",
    "        D[j][0]=I[j][0]\n",
    "    for i in range(0,I.shape[0]):\n",
    "            for j in range(1,I.shape[1]):\n",
    "                D[i][j]=I[i][j-1]\n",
    "\n",
    "    D=I-D \n",
    "    #\n",
    "    # ++++++++++++++++++++++++++++++++++++++++++++++++++\n",
    "    \n",
    "    return D"
   ]
  },
  {
   "cell_type": "markdown",
   "metadata": {},
   "source": [
    "- central difference : $ \\frac{1}{2} \\left( I[x, y+1] - I[x, y-1] \\right)$ "
   ]
  },
  {
   "cell_type": "code",
   "execution_count": 66,
   "metadata": {},
   "outputs": [],
   "source": [
    "def compute_derivative_y_central(I):\n",
    "    \n",
    "    D = np.zeros(I.shape)\n",
    "    \n",
    "    # ++++++++++++++++++++++++++++++++++++++++++++++++++\n",
    "    # complete the blanks\n",
    "    #\n",
    "    D1=np.zeros(I.shape)\n",
    "    D2=np.zeros(I.shape)\n",
    "    for i in range(0,I.shape[0]):\n",
    "        for j in range(1,I.shape[1]):\n",
    "            D1[i][j-1]=I[i][j]\n",
    "    for j in range(0,I.shape[0]):\n",
    "        D1[j][I.shape[1]-1]=I[j][I.shape[1]-1]\n",
    "    for j in range(0,I.shape[0]):\n",
    "        D2[j][0]=I[j][0]\n",
    "    for i in range(0,I.shape[0]):\n",
    "            for j in range(1,I.shape[1]):\n",
    "                D2[i][j]=I[i][j-1]\n",
    "    D=D1-D2\n",
    "    D=D/2\n",
    "    \n",
    "    #\n",
    "    # ++++++++++++++++++++++++++++++++++++++++++++++++++\n",
    "    \n",
    "    return D"
   ]
  },
  {
   "cell_type": "markdown",
   "metadata": {},
   "source": [
    "## compute the norm of the gradient of the input image "
   ]
  },
  {
   "cell_type": "markdown",
   "metadata": {},
   "source": [
    "- $L_2^2$-norm of the gradient $ \\left( \\frac{\\partial I}{\\partial x}, \\frac{\\partial I}{\\partial y} \\right) $ is defined by $ \\left( \\frac{\\partial I}{\\partial x} \\right)^2 + \\left( \\frac{\\partial I}{\\partial y} \\right)^2 $"
   ]
  },
  {
   "cell_type": "code",
   "execution_count": 67,
   "metadata": {},
   "outputs": [],
   "source": [
    "def compute_norm_gradient_central(I):\n",
    "    \n",
    "    norm_gradient = np.zeros(I.shape)\n",
    "    \n",
    "    # ++++++++++++++++++++++++++++++++++++++++++++++++++\n",
    "    # complete the blanks\n",
    "    #\n",
    "    norm_gradient=np.sqrt(compute_derivative_x_forward(I)**2 + compute_derivative_y_forward(I)**2)\n",
    "    \n",
    "    \n",
    "    #\n",
    "    # ++++++++++++++++++++++++++++++++++++++++++++++++++\n",
    "    \n",
    "    return norm_gradient"
   ]
  },
  {
   "cell_type": "markdown",
   "metadata": {},
   "source": [
    "___"
   ]
  },
  {
   "cell_type": "markdown",
   "metadata": {},
   "source": [
    "___"
   ]
  },
  {
   "cell_type": "markdown",
   "metadata": {},
   "source": [
    "## functions for presenting the results"
   ]
  },
  {
   "cell_type": "markdown",
   "metadata": {},
   "source": [
    "___"
   ]
  },
  {
   "cell_type": "markdown",
   "metadata": {},
   "source": [
    "___"
   ]
  },
  {
   "cell_type": "code",
   "execution_count": 68,
   "metadata": {},
   "outputs": [],
   "source": [
    "def function_result_01():\n",
    "    \n",
    "    plt.figure(figsize=(8,6))\n",
    "    plt.imshow(I0)\n",
    "    plt.show()"
   ]
  },
  {
   "cell_type": "code",
   "execution_count": 69,
   "metadata": {},
   "outputs": [],
   "source": [
    "def function_result_02():\n",
    "    \n",
    "    plt.figure(figsize=(8,6))\n",
    "    plt.imshow(I, cmap='gray', vmin=0, vmax=1, interpolation='none')\n",
    "    plt.show()"
   ]
  },
  {
   "cell_type": "code",
   "execution_count": 70,
   "metadata": {},
   "outputs": [],
   "source": [
    "def function_result_03():\n",
    "\n",
    "    D = compute_derivative_x_forward(I)\n",
    "    \n",
    "    plt.figure(figsize=(8,6))\n",
    "    plt.imshow(D, cmap='gray')\n",
    "    plt.show()"
   ]
  },
  {
   "cell_type": "code",
   "execution_count": 71,
   "metadata": {},
   "outputs": [],
   "source": [
    "def function_result_04():\n",
    "\n",
    "    D = compute_derivative_x_backward(I)\n",
    "    \n",
    "    plt.figure(figsize=(8,6))\n",
    "    plt.imshow(D, cmap='gray')\n",
    "    plt.show()"
   ]
  },
  {
   "cell_type": "code",
   "execution_count": 72,
   "metadata": {},
   "outputs": [],
   "source": [
    "def function_result_05():\n",
    "\n",
    "    D = compute_derivative_x_central(I)\n",
    "    \n",
    "    plt.figure(figsize=(8,6))\n",
    "    plt.imshow(D, cmap='gray')\n",
    "    plt.show()"
   ]
  },
  {
   "cell_type": "code",
   "execution_count": 73,
   "metadata": {},
   "outputs": [],
   "source": [
    "def function_result_06():\n",
    "\n",
    "    D = compute_derivative_y_forward(I)\n",
    "    \n",
    "    plt.figure(figsize=(8,6))\n",
    "    plt.imshow(D, cmap='gray')\n",
    "    plt.show()"
   ]
  },
  {
   "cell_type": "code",
   "execution_count": 74,
   "metadata": {},
   "outputs": [],
   "source": [
    "def function_result_07():\n",
    "\n",
    "    D = compute_derivative_y_backward(I)\n",
    "    \n",
    "    plt.figure(figsize=(8,6))\n",
    "    plt.imshow(D, cmap='gray')\n",
    "    plt.show()"
   ]
  },
  {
   "cell_type": "code",
   "execution_count": 75,
   "metadata": {},
   "outputs": [],
   "source": [
    "def function_result_08():\n",
    "\n",
    "    D = compute_derivative_y_central(I)\n",
    "    \n",
    "    plt.figure(figsize=(8,6))\n",
    "    plt.imshow(D, cmap='gray')\n",
    "    plt.show()"
   ]
  },
  {
   "cell_type": "code",
   "execution_count": 76,
   "metadata": {},
   "outputs": [],
   "source": [
    "def function_result_09():\n",
    "\n",
    "    D = compute_norm_gradient_central(I)\n",
    "    \n",
    "    plt.figure(figsize=(8,6))\n",
    "    plt.imshow(D, cmap='gray')\n",
    "    plt.show()"
   ]
  },
  {
   "cell_type": "code",
   "execution_count": 77,
   "metadata": {},
   "outputs": [],
   "source": [
    "def function_result_10():\n",
    "\n",
    "    D = compute_norm_gradient_central(I)\n",
    "    \n",
    "    plt.figure(figsize=(8,6))\n",
    "    im = plt.imshow(D, cmap=cm.jet, norm=colors.LogNorm())\n",
    "    plt.colorbar(im)\n",
    "    plt.show()"
   ]
  },
  {
   "cell_type": "code",
   "execution_count": 78,
   "metadata": {},
   "outputs": [],
   "source": [
    "def function_result_11():\n",
    "\n",
    "    D = compute_derivative_x_forward(I)\n",
    "\n",
    "    value1 = D[0, 0]    \n",
    "    value2 = D[-1, -1]    \n",
    "    value3 = D[100, 100]    \n",
    "    value4 = D[200, 200]\n",
    "\n",
    "    print('value1 = ', value1)\n",
    "    print('value2 = ', value2)\n",
    "    print('value3 = ', value3)\n",
    "    print('value4 = ', value4)\n"
   ]
  },
  {
   "cell_type": "code",
   "execution_count": 79,
   "metadata": {},
   "outputs": [],
   "source": [
    "def function_result_12():\n",
    "\n",
    "    D = compute_derivative_x_backward(I)\n",
    "\n",
    "    value1 = D[0, 0]    \n",
    "    value2 = D[-1, -1]    \n",
    "    value3 = D[100, 100]    \n",
    "    value4 = D[200, 200]\n",
    "\n",
    "    print('value1 = ', value1)\n",
    "    print('value2 = ', value2)\n",
    "    print('value3 = ', value3)\n",
    "    print('value4 = ', value4)\n"
   ]
  },
  {
   "cell_type": "code",
   "execution_count": 80,
   "metadata": {},
   "outputs": [],
   "source": [
    "def function_result_13():\n",
    "\n",
    "    D = compute_derivative_x_central(I)\n",
    "\n",
    "    value1 = D[0, 0]    \n",
    "    value2 = D[-1, -1]    \n",
    "    value3 = D[100, 100]    \n",
    "    value4 = D[200, 200]\n",
    "\n",
    "    print('value1 = ', value1)\n",
    "    print('value2 = ', value2)\n",
    "    print('value3 = ', value3)\n",
    "    print('value4 = ', value4)\n"
   ]
  },
  {
   "cell_type": "code",
   "execution_count": 81,
   "metadata": {},
   "outputs": [],
   "source": [
    "def function_result_14():\n",
    "\n",
    "    D = compute_derivative_y_forward(I)\n",
    "\n",
    "    value1 = D[0, 0]    \n",
    "    value2 = D[-1, -1]    \n",
    "    value3 = D[100, 100]    \n",
    "    value4 = D[200, 200]\n",
    "\n",
    "    print('value1 = ', value1)\n",
    "    print('value2 = ', value2)\n",
    "    print('value3 = ', value3)\n",
    "    print('value4 = ', value4)\n"
   ]
  },
  {
   "cell_type": "code",
   "execution_count": 82,
   "metadata": {},
   "outputs": [],
   "source": [
    "def function_result_15():\n",
    "\n",
    "    D = compute_derivative_y_backward(I)\n",
    "\n",
    "    value1 = D[0, 0]    \n",
    "    value2 = D[-1, -1]    \n",
    "    value3 = D[100, 100]    \n",
    "    value4 = D[200, 200]\n",
    "\n",
    "    print('value1 = ', value1)\n",
    "    print('value2 = ', value2)\n",
    "    print('value3 = ', value3)\n",
    "    print('value4 = ', value4)\n"
   ]
  },
  {
   "cell_type": "code",
   "execution_count": 83,
   "metadata": {},
   "outputs": [],
   "source": [
    "def function_result_16():\n",
    "\n",
    "    D = compute_derivative_y_central(I)\n",
    "\n",
    "    value1 = D[0, 0]    \n",
    "    value2 = D[-1, -1]    \n",
    "    value3 = D[100, 100]    \n",
    "    value4 = D[200, 200]\n",
    "\n",
    "    print('value1 = ', value1)\n",
    "    print('value2 = ', value2)\n",
    "    print('value3 = ', value3)\n",
    "    print('value4 = ', value4)\n"
   ]
  },
  {
   "cell_type": "code",
   "execution_count": 84,
   "metadata": {},
   "outputs": [],
   "source": [
    "def function_result_17():\n",
    "\n",
    "    D = compute_norm_gradient_central(I)\n",
    "\n",
    "    value1 = D[0, 0]    \n",
    "    value2 = D[-1, -1]    \n",
    "    value3 = D[100, 100]    \n",
    "    value4 = D[200, 200]\n",
    "\n",
    "    print('value1 = ', value1)\n",
    "    print('value2 = ', value2)\n",
    "    print('value3 = ', value3)\n",
    "    print('value4 = ', value4)\n"
   ]
  },
  {
   "cell_type": "markdown",
   "metadata": {},
   "source": [
    "___"
   ]
  },
  {
   "cell_type": "markdown",
   "metadata": {},
   "source": [
    "# results"
   ]
  },
  {
   "cell_type": "markdown",
   "metadata": {},
   "source": [
    "___"
   ]
  },
  {
   "cell_type": "markdown",
   "metadata": {},
   "source": [
    "___"
   ]
  },
  {
   "cell_type": "code",
   "execution_count": null,
   "metadata": {},
   "outputs": [],
   "source": [
    "number_result = 17\n",
    "\n",
    "for i in range(number_result):\n",
    "    title = '## [RESULT {:02d}]'.format(i+1)\n",
    "    name_function = 'function_result_{:02d}()'.format(i+1)\n",
    "\n",
    "    print('**************************************************')\n",
    "    print(title)\n",
    "    print('**************************************************')\n",
    "    eval(name_function)"
   ]
  },
  {
   "cell_type": "code",
   "execution_count": null,
   "metadata": {},
   "outputs": [],
   "source": []
  }
 ],
 "metadata": {
  "kernelspec": {
   "display_name": "Python 3 (ipykernel)",
   "language": "python",
   "name": "python3"
  },
  "language_info": {
   "codemirror_mode": {
    "name": "ipython",
    "version": 3
   },
   "file_extension": ".py",
   "mimetype": "text/x-python",
   "name": "python",
   "nbconvert_exporter": "python",
   "pygments_lexer": "ipython3",
   "version": "3.9.7"
  }
 },
 "nbformat": 4,
 "nbformat_minor": 2
}
